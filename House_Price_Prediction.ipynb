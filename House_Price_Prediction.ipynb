{
  "nbformat": 4,
  "nbformat_minor": 0,
  "metadata": {
    "colab": {
      "name": "House_Price_Prediction.ipynb",
      "version": "0.3.2",
      "views": {},
      "default_view": {},
      "provenance": [],
      "private_outputs": true,
      "collapsed_sections": []
    },
    "kernelspec": {
      "name": "python3",
      "display_name": "Python 3"
    },
    "accelerator": "GPU"
  },
  "cells": [
    {
      "metadata": {
        "id": "YVGw4ME2R1Sy",
        "colab_type": "code",
        "colab": {
          "autoexec": {
            "startup": false,
            "wait_interval": 0
          }
        }
      },
      "cell_type": "code",
      "source": [
        "# import all required libraries\n",
        "from __future__ import print_function\n",
        "\n",
        "import math\n",
        "import random\n",
        "import tensorflow as tf\n",
        "from sklearn import metrics\n",
        "from tensorflow.python.data import Dataset\n",
        "import numpy as np\n",
        "import pandas as pd\n",
        "import matplotlib.pyplot as plt\n",
        "\n",
        "\n",
        "tf.logging.set_verbosity(tf.logging.ERROR)"
      ],
      "execution_count": 0,
      "outputs": []
    },
    {
      "metadata": {
        "id": "rHs0WssHS6Fq",
        "colab_type": "code",
        "colab": {
          "autoexec": {
            "startup": false,
            "wait_interval": 0
          }
        }
      },
      "cell_type": "code",
      "source": [
        "# import the DataSet\n",
        "california_housing = pd.read_csv(\"https://dl.google.com/mlcc/mledu-datasets/california_housing_train.csv\",sep=\",\")\n",
        "california_housing.head()"
      ],
      "execution_count": 0,
      "outputs": []
    },
    {
      "metadata": {
        "id": "lcWTp8wYTjeC",
        "colab_type": "code",
        "colab": {
          "autoexec": {
            "startup": false,
            "wait_interval": 0
          }
        }
      },
      "cell_type": "code",
      "source": [
        "# data preprocessing\n",
        "def preprocess_features(california_housing):\n",
        "  \n",
        "  features = california_housing[\n",
        "      [\n",
        "          \"housing_median_age\",\n",
        "          \"total_rooms\",\n",
        "          \"total_bedrooms\",\n",
        "          \"population\",\n",
        "          \"median_income\"\n",
        "      ]\n",
        "  ]\n",
        "  selected_features = features.copy()\n",
        "  # Create a synthetic feature.\n",
        "  selected_features[\"rooms_per_person\"] = (california_housing[\"total_rooms\"] / california_housing[\"population\"])\n",
        "  return selected_features\n",
        "\n",
        "def preprocess_labels(california_housing):\n",
        "  selected_labels = (california_housing['median_house_value'] / 1000)\n",
        "  return selected_labels"
      ],
      "execution_count": 0,
      "outputs": []
    },
    {
      "metadata": {
        "id": "pXe6gOPvZej1",
        "colab_type": "code",
        "colab": {
          "autoexec": {
            "startup": false,
            "wait_interval": 0
          }
        }
      },
      "cell_type": "code",
      "source": [
        "training_features = preprocess_features(california_housing.head(10000))\n",
        "training_features.describe()"
      ],
      "execution_count": 0,
      "outputs": []
    },
    {
      "metadata": {
        "id": "mv5j1wDOZy0Q",
        "colab_type": "code",
        "colab": {
          "autoexec": {
            "startup": false,
            "wait_interval": 0
          }
        }
      },
      "cell_type": "code",
      "source": [
        "training_labels = preprocess_labels(california_housing.head(10000))\n",
        "training_labels.head()"
      ],
      "execution_count": 0,
      "outputs": []
    },
    {
      "metadata": {
        "id": "-c9KXkw0cYOj",
        "colab_type": "code",
        "colab": {
          "autoexec": {
            "startup": false,
            "wait_interval": 0
          }
        }
      },
      "cell_type": "code",
      "source": [
        "validation_features = preprocess_features(california_housing.tail(3000))\n",
        "validation_features.head()"
      ],
      "execution_count": 0,
      "outputs": []
    },
    {
      "metadata": {
        "id": "nknckIFGiOZJ",
        "colab_type": "code",
        "colab": {
          "autoexec": {
            "startup": false,
            "wait_interval": 0
          }
        }
      },
      "cell_type": "code",
      "source": [
        "validation_labels = preprocess_labels(california_housing.tail(3000))\n",
        "validation_labels.head()"
      ],
      "execution_count": 0,
      "outputs": []
    },
    {
      "metadata": {
        "id": "PJ0s_PQ3jIKP",
        "colab_type": "code",
        "colab": {
          "autoexec": {
            "startup": false,
            "wait_interval": 0
          }
        }
      },
      "cell_type": "code",
      "source": [
        "# generalised input function\n",
        "def my_input_fn(\n",
        "  features,\n",
        "  labels,\n",
        "  batch_size=1,\n",
        "  shuffle = False,\n",
        "  num_epochs=None):\n",
        "  \n",
        "  features = {key:np.array(value) for key,value in dict(features).items()}\n",
        "  \n",
        "  ds = Dataset.from_tensor_slices((features,labels))\n",
        "  ds = ds.batch(batch_size).repeat(num_epochs)\n",
        "  \n",
        "  if shuffle:\n",
        "    ds = ds.shuffle(1000)\n",
        "    \n",
        "  features,labels = ds.make_one_shot_iterator().get_next()\n",
        "  return features,labels"
      ],
      "execution_count": 0,
      "outputs": []
    },
    {
      "metadata": {
        "id": "JbdAfj7rvEH2",
        "colab_type": "code",
        "colab": {
          "autoexec": {
            "startup": false,
            "wait_interval": 0
          }
        }
      },
      "cell_type": "code",
      "source": [
        "def create_feature_columns(input_features):\n",
        "  return set([tf.feature_column.numeric_column(my_feature) for my_feature in input_features])"
      ],
      "execution_count": 0,
      "outputs": []
    },
    {
      "metadata": {
        "id": "cu_AdmM3wmLN",
        "colab_type": "code",
        "colab": {
          "autoexec": {
            "startup": false,
            "wait_interval": 0
          }
        }
      },
      "cell_type": "code",
      "source": [
        "def train_model(\n",
        "  learning_rate,\n",
        "  steps,\n",
        "  batch_size,\n",
        "  training_features,\n",
        "  training_labels,\n",
        "  validation_features,\n",
        "  validation_labels):\n",
        "  \n",
        "  periods = 10\n",
        "  steps_per_period = steps / periods\n",
        "  \n",
        "  my_optimizer = tf.train.GradientDescentOptimizer(learning_rate = learning_rate)\n",
        "  my_optimizer = tf.contrib.estimator.clip_gradients_by_norm(my_optimizer,5.0)\n",
        "  linear_regressor = tf.estimator.LinearRegressor(feature_columns = create_feature_columns(training_features),optimizer = my_optimizer)\n",
        "  \n",
        "  training_input_fn = lambda : my_input_fn(training_features,training_labels,batch_size=batch_size)\n",
        "  predict_training_input_fn = lambda : my_input_fn(training_features,training_labels,shuffle=False,num_epochs=1)\n",
        "  predict_validation_input_fn = lambda : my_input_fn(validation_features,validation_labels,shuffle=False,num_epochs=1)\n",
        "  \n",
        "  \n",
        "  print(\"Training the model..\")\n",
        "  print(\"RMSE (on train data) : \")\n",
        "  training_rmse = []\n",
        "  validation_rmse = []\n",
        "  for period in range(0,periods):\n",
        "    linear_regressor.train(input_fn=training_input_fn,steps = steps_per_period)\n",
        "    \n",
        "    training_predictions = linear_regressor.predict(input_fn=predict_training_input_fn)\n",
        "    training_predictions = np.array([item['predictions'][0] for item in training_predictions])\n",
        "    \n",
        "    validation_predictions = linear_regressor.predict(input_fn=predict_validation_input_fn)\n",
        "    validation_predictions = np.array([item['predictions'][0] for item in validation_predictions])\n",
        "    \n",
        "    training_RMSE = math.sqrt(metrics.mean_squared_error(training_predictions,training_labels))\n",
        "    validation_RMSE = math.sqrt(metrics.mean_squared_error(validation_predictions,validation_labels))\n",
        "    \n",
        "    print(\"period %02d : %.2f\" % (period,training_RMSE))\n",
        "    \n",
        "    training_rmse.append(training_RMSE)\n",
        "    validation_rmse.append(validation_RMSE)\n",
        "    \n",
        "  \n",
        "  print('model training finished.')\n",
        "  \n",
        "  plt.xlabel('periods')\n",
        "  plt.ylabel('RMSE')\n",
        "  plt.title('RMSE vs Periods')\n",
        "  plt.tight_layout()\n",
        "  plt.plot(training_rmse, label=\"training\")\n",
        "  plt.plot(validation_rmse, label=\"validation\")\n",
        "  plt.legend()\n",
        "  \n",
        "  return linear_regressor"
      ],
      "execution_count": 0,
      "outputs": []
    },
    {
      "metadata": {
        "id": "2EswrZWo3Idk",
        "colab_type": "code",
        "colab": {
          "autoexec": {
            "startup": false,
            "wait_interval": 0
          }
        }
      },
      "cell_type": "code",
      "source": [
        "linear_regressor = train_model(\n",
        "  learning_rate=0.00003,\n",
        "  steps=1000,\n",
        "  batch_size=15,\n",
        "  training_features=training_features,\n",
        "  training_labels=training_labels,\n",
        "  validation_features=validation_features,\n",
        "  validation_labels=validation_labels)"
      ],
      "execution_count": 0,
      "outputs": []
    },
    {
      "metadata": {
        "id": "AMC21R4ZM5-R",
        "colab_type": "code",
        "colab": {
          "autoexec": {
            "startup": false,
            "wait_interval": 0
          }
        }
      },
      "cell_type": "code",
      "source": [
        "#test data which is unseen by our model.\n",
        "california_housing_test_data = pd.read_csv(\"https://dl.google.com/mlcc/mledu-datasets/california_housing_test.csv\", sep=\",\")\n",
        "test_features = preprocess_features(california_housing_test_data)\n",
        "test_labels = preprocess_labels(california_housing_test_data)\n",
        "\n",
        "test_input_fn = lambda : my_input_fn(test_features,test_labels,shuffle=False,num_epochs=1)\n",
        "\n",
        "test_predictions = linear_regressor.predict(input_fn = test_input_fn)\n",
        "test_predictions = np.array([item['predictions'][0] for item in test_predictions])\n",
        "\n",
        "\n",
        "root_mean_squared_error = math.sqrt(\n",
        "    metrics.mean_squared_error(test_predictions, test_labels))\n",
        "\n",
        "print(\"Final RMSE (on test data): %0.2f\" % root_mean_squared_error)"
      ],
      "execution_count": 0,
      "outputs": []
    }
  ]
}